{
  "cells": [
    {
      "cell_type": "markdown",
      "metadata": {
        "id": "view-in-github",
        "colab_type": "text"
      },
      "source": [
        "<a href=\"https://colab.research.google.com/github/Saigeetha19112004/PRODIGY_ML_01/blob/main/Hand_gesture_ML_04.ipynb\" target=\"_parent\"><img src=\"https://colab.research.google.com/assets/colab-badge.svg\" alt=\"Open In Colab\"/></a>"
      ]
    },
    {
      "cell_type": "markdown",
      "metadata": {
        "id": "3gVQmy0TFF14"
      },
      "source": []
    },
    {
      "cell_type": "code",
      "execution_count": null,
      "metadata": {
        "colab": {
          "base_uri": "https://localhost:8080/"
        },
        "id": "4sUxM_svGxwl",
        "outputId": "e58c65c1-e57f-4a27-e07d-99a159b67ce0"
      },
      "outputs": [
        {
          "name": "stdout",
          "output_type": "stream",
          "text": [
            "Requirement already satisfied: kaggle in /usr/local/lib/python3.10/dist-packages (1.6.14)\n",
            "Requirement already satisfied: six>=1.10 in /usr/local/lib/python3.10/dist-packages (from kaggle) (1.16.0)\n",
            "Requirement already satisfied: certifi>=2023.7.22 in /usr/local/lib/python3.10/dist-packages (from kaggle) (2024.6.2)\n",
            "Requirement already satisfied: python-dateutil in /usr/local/lib/python3.10/dist-packages (from kaggle) (2.8.2)\n",
            "Requirement already satisfied: requests in /usr/local/lib/python3.10/dist-packages (from kaggle) (2.31.0)\n",
            "Requirement already satisfied: tqdm in /usr/local/lib/python3.10/dist-packages (from kaggle) (4.66.4)\n",
            "Requirement already satisfied: python-slugify in /usr/local/lib/python3.10/dist-packages (from kaggle) (8.0.4)\n",
            "Requirement already satisfied: urllib3 in /usr/local/lib/python3.10/dist-packages (from kaggle) (2.0.7)\n",
            "Requirement already satisfied: bleach in /usr/local/lib/python3.10/dist-packages (from kaggle) (6.1.0)\n",
            "Requirement already satisfied: webencodings in /usr/local/lib/python3.10/dist-packages (from bleach->kaggle) (0.5.1)\n",
            "Requirement already satisfied: text-unidecode>=1.3 in /usr/local/lib/python3.10/dist-packages (from python-slugify->kaggle) (1.3)\n",
            "Requirement already satisfied: charset-normalizer<4,>=2 in /usr/local/lib/python3.10/dist-packages (from requests->kaggle) (3.3.2)\n",
            "Requirement already satisfied: idna<4,>=2.5 in /usr/local/lib/python3.10/dist-packages (from requests->kaggle) (3.7)\n"
          ]
        }
      ],
      "source": [
        "!pip install kaggle"
      ]
    },
    {
      "cell_type": "code",
      "execution_count": null,
      "metadata": {
        "id": "L6hV5Cx-G0t-"
      },
      "outputs": [],
      "source": [
        "!mkdir -p ~/.kaggle\n",
        "!cp kaggle.json ~/.kaggle/\n",
        "!chmod 600 ~/.kaggle/kaggle.json"
      ]
    },
    {
      "cell_type": "code",
      "execution_count": null,
      "metadata": {
        "colab": {
          "base_uri": "https://localhost:8080/"
        },
        "id": "HMtJR4ObHEk_",
        "outputId": "2f38175f-ea71-4e6e-d43e-4f6d7a87c460"
      },
      "outputs": [
        {
          "name": "stdout",
          "output_type": "stream",
          "text": [
            "Dataset URL: https://www.kaggle.com/datasets/gti-upm/leapgestrecog\n",
            "License(s): CC-BY-NC-SA-4.0\n",
            "Downloading leapgestrecog.zip to /content\n",
            " 99% 2.11G/2.13G [00:23<00:00, 173MB/s]\n",
            "100% 2.13G/2.13G [00:23<00:00, 95.8MB/s]\n"
          ]
        }
      ],
      "source": [
        "#kaggle api\n",
        "!kaggle datasets download -d gti-upm/leapgestrecog"
      ]
    },
    {
      "cell_type": "code",
      "execution_count": null,
      "metadata": {
        "colab": {
          "base_uri": "https://localhost:8080/"
        },
        "id": "s2VO1t96HqQ6",
        "outputId": "7d0ba207-8e77-4b66-87d7-5b93227cc18a"
      },
      "outputs": [
        {
          "name": "stdout",
          "output_type": "stream",
          "text": [
            "kaggle.json  leapgestrecog.zip\tsample_data\n"
          ]
        }
      ],
      "source": [
        "!ls"
      ]
    },
    {
      "cell_type": "code",
      "execution_count": null,
      "metadata": {
        "colab": {
          "base_uri": "https://localhost:8080/"
        },
        "id": "p0bcZj5RHtZK",
        "outputId": "ce377932-5943-40b6-88b3-d125b966d397"
      },
      "outputs": [
        {
          "name": "stdout",
          "output_type": "stream",
          "text": [
            "Done\n"
          ]
        }
      ],
      "source": [
        "from zipfile import ZipFile\n",
        "file_name = \"leapgestrecog.zip\"\n",
        "\n",
        "with ZipFile(file_name, 'r') as zip:\n",
        "  zip.extractall()\n",
        "  print(\"Done\")"
      ]
    },
    {
      "cell_type": "code",
      "execution_count": null,
      "metadata": {
        "colab": {
          "base_uri": "https://localhost:8080/"
        },
        "id": "3xfqoqasH_Uw",
        "outputId": "6adde09b-83c7-4f0f-feb2-3485b0643437"
      },
      "outputs": [
        {
          "name": "stdout",
          "output_type": "stream",
          "text": [
            "0\n"
          ]
        }
      ],
      "source": [
        "import os\n",
        "path, dirs, files = next(os.walk(\"/content/leapgestrecog\"))\n",
        "file_count = len(files)\n",
        "print(file_count)"
      ]
    },
    {
      "cell_type": "code",
      "execution_count": null,
      "metadata": {
        "colab": {
          "base_uri": "https://localhost:8080/"
        },
        "id": "JxF0nDQpIlrI",
        "outputId": "2c21d197-d5c0-4a25-b123-4c9226ba1ef6"
      },
      "outputs": [
        {
          "name": "stdout",
          "output_type": "stream",
          "text": [
            "Archive:  leapgestrecog.zip\n",
            "replace leapGestRecog/00/01_palm/frame_00_01_0001.png? [y]es, [n]o, [A]ll, [N]one, [r]ename: "
          ]
        }
      ],
      "source": [
        "!unzip leapgestrecog.zip"
      ]
    },
    {
      "cell_type": "code",
      "execution_count": null,
      "metadata": {
        "id": "fmowvqf8I1e-"
      },
      "outputs": [],
      "source": [
        "import numpy as np\n",
        "import pandas as pd\n",
        "import os\n",
        "for dirname, _, filenames in os.walk('/content/leapGestRecog'):\n",
        "    pass"
      ]
    },
    {
      "cell_type": "code",
      "execution_count": null,
      "metadata": {
        "id": "19irbBAGI6lA"
      },
      "outputs": [],
      "source": [
        "import warnings\n",
        "warnings.filterwarnings('ignore')"
      ]
    },
    {
      "cell_type": "code",
      "execution_count": null,
      "metadata": {
        "id": "XgPvYbTYI9Wq"
      },
      "outputs": [],
      "source": [
        "import keras\n",
        "import matplotlib.pyplot as plt # for plotting\n",
        "import os # provides a way of using operating system dependent functionality\n",
        "import cv2 #Image handling library\n",
        "import numpy as np\n",
        "from keras.layers import MaxPooling2D\n",
        "\n",
        "# Import of keras model and hidden layers for our convolutional network\n",
        "from keras.layers import Conv2D, Activation, MaxPool2D, Dense, Flatten, Dropout"
      ]
    },
    {
      "cell_type": "code",
      "execution_count": null,
      "metadata": {
        "id": "qRI5_lvrJAXA"
      },
      "outputs": [],
      "source": [
        "CATEGORIES = [\"01_palm\", '02_l','03_fist','04_fist_moved','05_thumb','06_index','07_ok','08_palm_moved','09_c','10_down']\n",
        "IMG_SIZE = 50\n",
        "\n",
        "# paths for dataset\n",
        "data_path = \"/content/leapGestRecog\""
      ]
    },
    {
      "cell_type": "code",
      "execution_count": null,
      "metadata": {
        "colab": {
          "base_uri": "https://localhost:8080/"
        },
        "id": "ZNCED_cQJDjZ",
        "outputId": "3a44ac35-4375-4732-9f27-fe74efaa10ce"
      },
      "outputs": [
        {
          "data": {
            "text/plain": [
              "[array([[5, 6, 5, ..., 6, 5, 5],\n",
              "        [5, 5, 6, ..., 5, 5, 5],\n",
              "        [5, 5, 6, ..., 6, 6, 5],\n",
              "        ...,\n",
              "        [5, 5, 6, ..., 8, 7, 6],\n",
              "        [4, 5, 5, ..., 7, 8, 6],\n",
              "        [5, 5, 6, ..., 8, 7, 6]], dtype=uint8),\n",
              " 0]"
            ]
          },
          "execution_count": 18,
          "metadata": {},
          "output_type": "execute_result"
        }
      ],
      "source": [
        "image_data = []\n",
        "for dr in os.listdir(data_path):\n",
        "    for category in CATEGORIES:\n",
        "        class_index = CATEGORIES.index(category)\n",
        "        path = os.path.join(data_path, dr, category)\n",
        "        for img in os.listdir(path):\n",
        "            try:\n",
        "                img_arr = cv2.imread(os.path.join(path, img), cv2.IMREAD_GRAYSCALE)\n",
        "                image_data.append([cv2.resize(img_arr, (IMG_SIZE, IMG_SIZE)), class_index])\n",
        "            except Exception as e:\n",
        "                pass\n",
        "image_data[0]"
      ]
    },
    {
      "cell_type": "code",
      "execution_count": null,
      "metadata": {
        "id": "OAQgqpaSJGH8"
      },
      "outputs": [],
      "source": [
        "import random\n",
        "random.shuffle(image_data)"
      ]
    },
    {
      "cell_type": "code",
      "execution_count": null,
      "metadata": {
        "id": "HypL4RQ1JJLB"
      },
      "outputs": [],
      "source": [
        "input_data = []\n",
        "label = []\n",
        "for X, y in image_data:\n",
        "    input_data.append(X)\n",
        "    label.append(y)"
      ]
    },
    {
      "cell_type": "code",
      "execution_count": null,
      "metadata": {
        "colab": {
          "base_uri": "https://localhost:8080/",
          "height": 829
        },
        "id": "lVLRH5m4JOmA",
        "outputId": "be8262f3-6768-42ef-a304-a85b8df59249"
      },
      "outputs": [
        {
          "data": {
            "image/png": "[encoded data removed]",
            "text/plain": [
              "<Figure size 1000x1000 with 9 Axes>"
            ]
          },
          "metadata": {},
          "output_type": "display_data"
        }
      ],
      "source": [
        "label[:10]\n",
        "plt.figure(1, figsize=(10,10))\n",
        "for i in range(1,10):\n",
        "    plt.subplot(3,3,i)\n",
        "    plt.imshow(image_data[i][0], cmap='hot')\n",
        "    plt.xticks([])\n",
        "    plt.yticks([])\n",
        "    plt.title(CATEGORIES[label[i]][3:])\n",
        "plt.show()"
      ]
    },
    {
      "cell_type": "code",
      "execution_count": null,
      "metadata": {
        "colab": {
          "base_uri": "https://localhost:8080/"
        },
        "id": "c3PIHPSHJQdL",
        "outputId": "927d125a-2f95-4678-9460-a278d338077c"
      },
      "outputs": [
        {
          "data": {
            "text/plain": [
              "(20000, 50, 50)"
            ]
          },
          "execution_count": 22,
          "metadata": {},
          "output_type": "execute_result"
        }
      ],
      "source": [
        "input_data = np.array(input_data)\n",
        "label = np.array(label)\n",
        "input_data = input_data/255.0\n",
        "input_data.shape"
      ]
    },
    {
      "cell_type": "code",
      "execution_count": null,
      "metadata": {
        "colab": {
          "base_uri": "https://localhost:8080/"
        },
        "id": "3yCroqoOJTAd",
        "outputId": "7e264b60-5419-465d-b6cd-a9d842c700ef"
      },
      "outputs": [
        {
          "data": {
            "text/plain": [
              "array([0, 1, 0, 0, 0, 0, 0, 0, 0, 0], dtype=int8)"
            ]
          },
          "execution_count": 23,
          "metadata": {},
          "output_type": "execute_result"
        }
      ],
      "source": [
        "label = keras.utils.to_categorical(label, num_classes=10,dtype='i1')\n",
        "label[0]"
      ]
    },
    {
      "cell_type": "code",
      "execution_count": null,
      "metadata": {
        "id": "tGK5boUWJVxT"
      },
      "outputs": [],
      "source": [
        "input_data.shape = (-1, IMG_SIZE, IMG_SIZE, 1)"
      ]
    },
    {
      "cell_type": "code",
      "execution_count": null,
      "metadata": {
        "id": "pLjEJeVHJYS8"
      },
      "outputs": [],
      "source": [
        "from sklearn.model_selection import train_test_split\n",
        "X_train, X_test, y_train, y_test = train_test_split(input_data, label, test_size = 0.3, random_state=0)\n"
      ]
    },
    {
      "cell_type": "code",
      "execution_count": null,
      "metadata": {
        "colab": {
          "base_uri": "https://localhost:8080/"
        },
        "id": "SZjnvB-lJa6c",
        "outputId": "7f1b17fa-c2d1-4d05-ac79-844136d7eb45"
      },
      "outputs": [
        {
          "name": "stderr",
          "output_type": "stream",
          "text": [
            "WARNING:absl:`lr` is deprecated in Keras optimizer, please use `learning_rate` or use the legacy optimizer, e.g.,tf.keras.optimizers.legacy.Adam.\n"
          ]
        }
      ],
      "source": [
        "from keras.models import Sequential\n",
        "from keras.layers import Conv2D, MaxPooling2D, BatchNormalization, Dropout, Flatten, Dense, Activation\n",
        "from keras.optimizers import Adam\n",
        "import matplotlib.pyplot as plt\n",
        "\n",
        "model = Sequential()\n",
        "\n",
        "# Add convolutional layers\n",
        "model.add(Conv2D(filters=16, kernel_size=(3, 3), padding='same', input_shape=(IMG_SIZE, IMG_SIZE, 1)))\n",
        "model.add(BatchNormalization())\n",
        "model.add(Activation('relu'))\n",
        "\n",
        "model.add(Conv2D(filters=32, kernel_size=(3, 3), padding='same'))\n",
        "model.add(BatchNormalization())\n",
        "model.add(Activation('relu'))\n",
        "\n",
        "# Add max pooling layers\n",
        "model.add(MaxPooling2D(pool_size=(2, 2)))\n",
        "model.add(Dropout(0.25))\n",
        "\n",
        "# Flatten the output\n",
        "model.add(Flatten())\n",
        "\n",
        "# Add fully connected layers\n",
        "model.add(Dense(units=128))\n",
        "model.add(BatchNormalization())\n",
        "model.add(Activation('relu'))\n",
        "\n",
        "model.add(Dense(units=10, activation='softmax'))\n",
        "\n",
        "# Compile the model\n",
        "model.compile(loss='categorical_crossentropy', optimizer=Adam(lr=0.001), metrics=['accuracy'])\n"
      ]
    },
    {
      "cell_type": "code",
      "execution_count": null,
      "metadata": {
        "colab": {
          "background_save": true,
          "base_uri": "https://localhost:8080/"
        },
        "id": "3gH5CYgFJgtG",
        "outputId": "0535c868-31ca-4652-c666-59c641a1bd27"
      },
      "outputs": [
        {
          "name": "stdout",
          "output_type": "stream",
          "text": [
            "Epoch 1/7\n",
            "438/438 [==============================] - 105s 237ms/step - loss: 0.1327 - accuracy: 0.9699 - val_loss: 2.3419 - val_accuracy: 0.3763\n",
            "Epoch 2/7\n",
            "438/438 [==============================] - 99s 226ms/step - loss: 0.0054 - accuracy: 0.9999 - val_loss: 0.0042 - val_accuracy: 1.0000\n",
            "Epoch 3/7\n",
            "438/438 [==============================] - 95s 218ms/step - loss: 0.0064 - accuracy: 0.9990 - val_loss: 0.0036 - val_accuracy: 0.9997\n",
            "Epoch 4/7\n",
            "438/438 [==============================] - 89s 203ms/step - loss: 0.0033 - accuracy: 0.9997 - val_loss: 6.2696e-04 - val_accuracy: 1.0000\n",
            "Epoch 5/7\n",
            "438/438 [==============================] - 90s 204ms/step - loss: 0.0011 - accuracy: 0.9999 - val_loss: 0.1290 - val_accuracy: 0.9642\n",
            "Epoch 6/7\n",
            "438/438 [==============================] - 94s 215ms/step - loss: 0.0101 - accuracy: 0.9976 - val_loss: 0.0657 - val_accuracy: 0.9883\n",
            "Epoch 7/7\n",
            "438/438 [==============================] - 101s 230ms/step - loss: 0.0024 - accuracy: 0.9996 - val_loss: 6.7572e-04 - val_accuracy: 0.9997\n"
          ]
        }
      ],
      "source": [
        "history = model.fit(X_train, y_train, epochs = 7, batch_size=32, validation_data=(X_test, y_test))\n"
      ]
    },
    {
      "cell_type": "code",
      "execution_count": null,
      "metadata": {
        "id": "VzOpd1J2Jka0"
      },
      "outputs": [],
      "source": [
        "test_loss, test_accuracy = model.evaluate(X_test, y_test)\n",
        "\n",
        "print('Test accuracy: {:2.2f}%'.format(test_accuracy*100))"
      ]
    },
    {
      "cell_type": "code",
      "execution_count": null,
      "metadata": {
        "id": "slC1DwsdJnvy"
      },
      "outputs": [],
      "source": [
        "\n",
        "plt.plot(history.history['accuracy'])\n",
        "plt.plot(history.history['val_accuracy'])\n",
        "plt.title('Model Accuracy')\n",
        "plt.ylabel('Accuracy')\n",
        "plt.xlabel('Epoch')\n",
        "plt.legend(['Train', 'Validation'], loc='upper left')\n",
        "plt.show()"
      ]
    }
  ],
  "metadata": {
    "colab": {
      "provenance": [],
      "authorship_tag": "ABX9TyO2HQ9VSRXLHi+SOxa2/M5z",
      "include_colab_link": true
    },
    "kernelspec": {
      "display_name": "Python 3",
      "name": "python3"
    },
    "language_info": {
      "name": "python"
    }
  },
  "nbformat": 4,
  "nbformat_minor": 0
}